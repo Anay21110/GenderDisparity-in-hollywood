{
  "nbformat": 4,
  "nbformat_minor": 5,
  "metadata": {
    "kernelspec": {
      "display_name": "Python 3",
      "language": "python",
      "name": "python3"
    },
    "language_info": {
      "codemirror_mode": {
        "name": "ipython",
        "version": 3
      },
      "file_extension": ".py",
      "mimetype": "text/x-python",
      "name": "python",
      "nbconvert_exporter": "python",
      "pygments_lexer": "ipython3",
      "version": "3.7.9"
    },
    "papermill": {
      "default_parameters": {},
      "duration": 17.592084,
      "end_time": "2021-06-27T05:04:21.819171",
      "environment_variables": {},
      "exception": null,
      "input_path": "__notebook__.ipynb",
      "output_path": "__notebook__.ipynb",
      "parameters": {},
      "start_time": "2021-06-27T05:04:04.227087",
      "version": "2.3.2"
    },
    "colab": {
      "name": "analyzing-gender-disparity-in-hollywood.ipynb",
      "provenance": [],
      "toc_visible": true,
      "include_colab_link": true
    }
  },
  "cells": [
    {
      "cell_type": "markdown",
      "metadata": {
        "id": "view-in-github",
        "colab_type": "text"
      },
      "source": [
        "<a href=\"https://colab.research.google.com/github/Anay21110/GenderDisparity-in-hollywood/blob/main/analyzing_gender_disparity_in_hollywood.ipynb\" target=\"_parent\"><img src=\"https://colab.research.google.com/assets/colab-badge.svg\" alt=\"Open In Colab\"/></a>"
      ]
    },
    {
      "cell_type": "markdown",
      "metadata": {
        "papermill": {
          "duration": 0.024355,
          "end_time": "2021-06-27T05:04:10.722204",
          "exception": false,
          "start_time": "2021-06-27T05:04:10.697849",
          "status": "completed"
        },
        "tags": [],
        "id": "creative-exercise"
      },
      "source": [
        "# **The Bechdel Test: Analyzing gender disparity in Hollywood**\n",
        "\n",
        "Using data analytic techniques to visualize gender inequality in Hollywood\n",
        "\n",
        "The Bechdel test is named after cartoonist Alison Bechdel, who introduced the idea in a comic strip in the year 1985. To pass the test, a story needs to have:\n",
        "* At least two women\n",
        "* The women need to talk to each other\n",
        "* They need to talk to each other about something other than a man"
      ],
      "id": "creative-exercise"
    },
    {
      "cell_type": "markdown",
      "metadata": {
        "papermill": {
          "duration": 0.021288,
          "end_time": "2021-06-27T05:04:10.765735",
          "exception": false,
          "start_time": "2021-06-27T05:04:10.744447",
          "status": "completed"
        },
        "tags": [],
        "id": "fleet-veteran"
      },
      "source": [
        "# **The Data Question**\n",
        "\n",
        "My aim was to collect data from various different sources, and answer the following questions about the Bechdel test:\n",
        "\n",
        "* Have the Bechdel scores of movies improved over the years?\n",
        "* Do movies with higher IMDB ratings have higher Bechdel scores?\n",
        "* Do movies with female directors have higher Bechdel scores?\n",
        "* Does the budget of a movie have any impact on its Bechdel score?\n",
        "* Do movies with higher Bechdel scores generate a larger revenue?"
      ],
      "id": "fleet-veteran"
    },
    {
      "cell_type": "markdown",
      "metadata": {
        "papermill": {
          "duration": 0.02136,
          "end_time": "2021-06-27T05:04:10.809044",
          "exception": false,
          "start_time": "2021-06-27T05:04:10.787684",
          "status": "completed"
        },
        "tags": [],
        "id": "possible-carolina"
      },
      "source": [
        "# **Data analysis**\n",
        "\n",
        "*I will use python to perform data analysis and visualization.*\n",
        "\n",
        "\n",
        "*First, I used data from bechdeltest.com, which was pretty easy to grab because of their API.*"
      ],
      "id": "possible-carolina"
    },
    {
      "cell_type": "code",
      "metadata": {
        "execution": {
          "iopub.execute_input": "2021-06-27T05:04:10.860611Z",
          "iopub.status.busy": "2021-06-27T05:04:10.859930Z",
          "iopub.status.idle": "2021-06-27T05:04:13.701557Z",
          "shell.execute_reply": "2021-06-27T05:04:13.700828Z",
          "shell.execute_reply.started": "2021-06-27T04:24:30.744688Z"
        },
        "papermill": {
          "duration": 2.871094,
          "end_time": "2021-06-27T05:04:13.701724",
          "exception": false,
          "start_time": "2021-06-27T05:04:10.830630",
          "status": "completed"
        },
        "tags": [],
        "id": "elegant-trout"
      },
      "source": [
        "# imports\n",
        "import urllib,json\n",
        "import pandas as pd\n",
        "\n",
        "df = pd.read_json('http://bechdeltest.com/api/v1/getAllMovies')"
      ],
      "id": "elegant-trout",
      "execution_count": null,
      "outputs": []
    },
    {
      "cell_type": "markdown",
      "metadata": {
        "papermill": {
          "duration": 0.020863,
          "end_time": "2021-06-27T05:04:13.743940",
          "exception": false,
          "start_time": "2021-06-27T05:04:13.723077",
          "status": "completed"
        },
        "tags": [],
        "id": "alpha-situation"
      },
      "source": [
        "Now, I will take a look at the head of the data frame:\n"
      ],
      "id": "alpha-situation"
    },
    {
      "cell_type": "code",
      "metadata": {
        "execution": {
          "iopub.execute_input": "2021-06-27T05:04:13.794136Z",
          "iopub.status.busy": "2021-06-27T05:04:13.793406Z",
          "iopub.status.idle": "2021-06-27T05:04:13.810732Z",
          "shell.execute_reply": "2021-06-27T05:04:13.811410Z",
          "shell.execute_reply.started": "2021-06-27T04:27:00.146895Z"
        },
        "papermill": {
          "duration": 0.046049,
          "end_time": "2021-06-27T05:04:13.811585",
          "exception": false,
          "start_time": "2021-06-27T05:04:13.765536",
          "status": "completed"
        },
        "tags": [],
        "id": "consistent-extraction",
        "outputId": "bf7eb13d-a463-4a05-828c-5cd67262eaaf"
      },
      "source": [
        "df.head()"
      ],
      "id": "consistent-extraction",
      "execution_count": null,
      "outputs": [
        {
          "output_type": "execute_result",
          "data": {
            "text/html": [
              "<div>\n",
              "<style scoped>\n",
              "    .dataframe tbody tr th:only-of-type {\n",
              "        vertical-align: middle;\n",
              "    }\n",
              "\n",
              "    .dataframe tbody tr th {\n",
              "        vertical-align: top;\n",
              "    }\n",
              "\n",
              "    .dataframe thead th {\n",
              "        text-align: right;\n",
              "    }\n",
              "</style>\n",
              "<table border=\"1\" class=\"dataframe\">\n",
              "  <thead>\n",
              "    <tr style=\"text-align: right;\">\n",
              "      <th></th>\n",
              "      <th>id</th>\n",
              "      <th>imdbid</th>\n",
              "      <th>title</th>\n",
              "      <th>rating</th>\n",
              "      <th>year</th>\n",
              "    </tr>\n",
              "  </thead>\n",
              "  <tbody>\n",
              "    <tr>\n",
              "      <th>0</th>\n",
              "      <td>9602</td>\n",
              "      <td>3155794</td>\n",
              "      <td>Passage de Venus</td>\n",
              "      <td>0</td>\n",
              "      <td>1874</td>\n",
              "    </tr>\n",
              "    <tr>\n",
              "      <th>1</th>\n",
              "      <td>9804</td>\n",
              "      <td>14495706</td>\n",
              "      <td>La Rosace Magique</td>\n",
              "      <td>0</td>\n",
              "      <td>1877</td>\n",
              "    </tr>\n",
              "    <tr>\n",
              "      <th>2</th>\n",
              "      <td>9806</td>\n",
              "      <td>12592084</td>\n",
              "      <td>Le singe musicien</td>\n",
              "      <td>0</td>\n",
              "      <td>1878</td>\n",
              "    </tr>\n",
              "    <tr>\n",
              "      <th>3</th>\n",
              "      <td>9603</td>\n",
              "      <td>2221420</td>\n",
              "      <td>Sallie Gardner at a Gallop</td>\n",
              "      <td>0</td>\n",
              "      <td>1878</td>\n",
              "    </tr>\n",
              "    <tr>\n",
              "      <th>4</th>\n",
              "      <td>9816</td>\n",
              "      <td>7816420</td>\n",
              "      <td>Athlete Swinging a Pick</td>\n",
              "      <td>0</td>\n",
              "      <td>1881</td>\n",
              "    </tr>\n",
              "  </tbody>\n",
              "</table>\n",
              "</div>"
            ],
            "text/plain": [
              "     id    imdbid                       title  rating  year\n",
              "0  9602   3155794            Passage de Venus       0  1874\n",
              "1  9804  14495706           La Rosace Magique       0  1877\n",
              "2  9806  12592084           Le singe musicien       0  1878\n",
              "3  9603   2221420  Sallie Gardner at a Gallop       0  1878\n",
              "4  9816   7816420     Athlete Swinging a Pick       0  1881"
            ]
          },
          "metadata": {
            "tags": []
          },
          "execution_count": 2
        }
      ]
    },
    {
      "cell_type": "markdown",
      "metadata": {
        "papermill": {
          "duration": 0.021594,
          "end_time": "2021-06-27T05:04:13.855304",
          "exception": false,
          "start_time": "2021-06-27T05:04:13.833710",
          "status": "completed"
        },
        "tags": [],
        "id": "bronze-scroll"
      },
      "source": [
        "*There are five variables in the data frame:\n",
        "*\n",
        "* rating: Bechdel Score of the movie from 0 to 3. A Bechdel score lower than 3 means the movie failed the Bechdel test, and a Bechdel score of 3 means the movie passed.\n",
        "* imdbid: The movie’s IMDB number\n",
        "* title: Movie title\n",
        "* id: Unique movie ID\n",
        "* year: Year the movie was released\n",
        "\n",
        "*Taking a look at the column ‘year’, you can see that there are movies present from the 19th century, and a lot of those movies have a Bechdel score of 0.\n",
        "I am going to create a new data frame with movies released after the year 1967, and will be using this new data frame for the rest of my analysis.*"
      ],
      "id": "bronze-scroll"
    },
    {
      "cell_type": "code",
      "metadata": {
        "execution": {
          "iopub.execute_input": "2021-06-27T05:04:13.904599Z",
          "iopub.status.busy": "2021-06-27T05:04:13.903680Z",
          "iopub.status.idle": "2021-06-27T05:04:13.911168Z",
          "shell.execute_reply": "2021-06-27T05:04:13.910282Z",
          "shell.execute_reply.started": "2021-06-27T04:38:55.880890Z"
        },
        "papermill": {
          "duration": 0.034235,
          "end_time": "2021-06-27T05:04:13.911399",
          "exception": false,
          "start_time": "2021-06-27T05:04:13.877164",
          "status": "completed"
        },
        "tags": [],
        "id": "federal-avatar"
      },
      "source": [
        "dfNew = df[df['year'] >= 1967]"
      ],
      "id": "federal-avatar",
      "execution_count": null,
      "outputs": []
    },
    {
      "cell_type": "code",
      "metadata": {
        "execution": {
          "iopub.execute_input": "2021-06-27T05:04:13.973891Z",
          "iopub.status.busy": "2021-06-27T05:04:13.973171Z",
          "iopub.status.idle": "2021-06-27T05:04:13.991644Z",
          "shell.execute_reply": "2021-06-27T05:04:13.992536Z",
          "shell.execute_reply.started": "2021-06-27T04:38:57.998865Z"
        },
        "papermill": {
          "duration": 0.051595,
          "end_time": "2021-06-27T05:04:13.992801",
          "exception": false,
          "start_time": "2021-06-27T05:04:13.941206",
          "status": "completed"
        },
        "tags": [],
        "id": "silver-italy",
        "outputId": "cd5aa492-636a-45df-8bdf-8cf8b36c7ac6"
      },
      "source": [
        "dfNew.head()"
      ],
      "id": "silver-italy",
      "execution_count": null,
      "outputs": [
        {
          "output_type": "execute_result",
          "data": {
            "text/html": [
              "<div>\n",
              "<style scoped>\n",
              "    .dataframe tbody tr th:only-of-type {\n",
              "        vertical-align: middle;\n",
              "    }\n",
              "\n",
              "    .dataframe tbody tr th {\n",
              "        vertical-align: top;\n",
              "    }\n",
              "\n",
              "    .dataframe thead th {\n",
              "        text-align: right;\n",
              "    }\n",
              "</style>\n",
              "<table border=\"1\" class=\"dataframe\">\n",
              "  <thead>\n",
              "    <tr style=\"text-align: right;\">\n",
              "      <th></th>\n",
              "      <th>id</th>\n",
              "      <th>imdbid</th>\n",
              "      <th>title</th>\n",
              "      <th>rating</th>\n",
              "      <th>year</th>\n",
              "    </tr>\n",
              "  </thead>\n",
              "  <tbody>\n",
              "    <tr>\n",
              "      <th>1203</th>\n",
              "      <td>4722</td>\n",
              "      <td>0062990</td>\n",
              "      <td>Fox, The</td>\n",
              "      <td>3</td>\n",
              "      <td>1967</td>\n",
              "    </tr>\n",
              "    <tr>\n",
              "      <th>1204</th>\n",
              "      <td>2054</td>\n",
              "      <td>0063278</td>\n",
              "      <td>Marketa Lazarova</td>\n",
              "      <td>1</td>\n",
              "      <td>1967</td>\n",
              "    </tr>\n",
              "    <tr>\n",
              "      <th>1205</th>\n",
              "      <td>6714</td>\n",
              "      <td>0062411</td>\n",
              "      <td>Uchu daikaiju Girara</td>\n",
              "      <td>3</td>\n",
              "      <td>1967</td>\n",
              "    </tr>\n",
              "    <tr>\n",
              "      <th>1206</th>\n",
              "      <td>301</td>\n",
              "      <td>0061512</td>\n",
              "      <td>Cool Hand Luke</td>\n",
              "      <td>1</td>\n",
              "      <td>1967</td>\n",
              "    </tr>\n",
              "    <tr>\n",
              "      <th>1207</th>\n",
              "      <td>2664</td>\n",
              "      <td>0061452</td>\n",
              "      <td>Casino Royale</td>\n",
              "      <td>2</td>\n",
              "      <td>1967</td>\n",
              "    </tr>\n",
              "  </tbody>\n",
              "</table>\n",
              "</div>"
            ],
            "text/plain": [
              "        id   imdbid                 title  rating  year\n",
              "1203  4722  0062990              Fox, The       3  1967\n",
              "1204  2054  0063278      Marketa Lazarova       1  1967\n",
              "1205  6714  0062411  Uchu daikaiju Girara       3  1967\n",
              "1206   301  0061512        Cool Hand Luke       1  1967\n",
              "1207  2664  0061452         Casino Royale       2  1967"
            ]
          },
          "metadata": {
            "tags": []
          },
          "execution_count": 4
        }
      ]
    },
    {
      "cell_type": "markdown",
      "metadata": {
        "papermill": {
          "duration": 0.025599,
          "end_time": "2021-06-27T05:04:14.049515",
          "exception": false,
          "start_time": "2021-06-27T05:04:14.023916",
          "status": "completed"
        },
        "tags": [],
        "id": "electoral-paintball"
      },
      "source": [
        "**I am now going to rename the column ‘rating’ to ‘Bechdel Score’, to make things clearer for the rest of the analysis.**"
      ],
      "id": "electoral-paintball"
    },
    {
      "cell_type": "code",
      "metadata": {
        "execution": {
          "iopub.execute_input": "2021-06-27T05:04:14.099137Z",
          "iopub.status.busy": "2021-06-27T05:04:14.097834Z",
          "iopub.status.idle": "2021-06-27T05:04:14.109941Z",
          "shell.execute_reply": "2021-06-27T05:04:14.110529Z",
          "shell.execute_reply.started": "2021-06-27T04:39:01.069851Z"
        },
        "papermill": {
          "duration": 0.037977,
          "end_time": "2021-06-27T05:04:14.110715",
          "exception": false,
          "start_time": "2021-06-27T05:04:14.072738",
          "status": "completed"
        },
        "tags": [],
        "id": "organic-award",
        "outputId": "95d8ba27-1b0b-4fea-a1e3-b571c5339637"
      },
      "source": [
        "dfNew.rename(columns={'rating':'Bechdel Score'}, inplace=True)"
      ],
      "id": "organic-award",
      "execution_count": null,
      "outputs": [
        {
          "output_type": "stream",
          "text": [
            "/opt/conda/lib/python3.7/site-packages/pandas/core/frame.py:4446: SettingWithCopyWarning: \n",
            "A value is trying to be set on a copy of a slice from a DataFrame\n",
            "\n",
            "See the caveats in the documentation: https://pandas.pydata.org/pandas-docs/stable/user_guide/indexing.html#returning-a-view-versus-a-copy\n",
            "  errors=errors,\n"
          ],
          "name": "stderr"
        }
      ]
    },
    {
      "cell_type": "markdown",
      "metadata": {
        "papermill": {
          "duration": 0.022197,
          "end_time": "2021-06-27T05:04:14.155467",
          "exception": false,
          "start_time": "2021-06-27T05:04:14.133270",
          "status": "completed"
        },
        "tags": [],
        "id": "regulated-brooklyn"
      },
      "source": [
        "**Now, I am going to convert the ‘year’ column into a datetime object.**"
      ],
      "id": "regulated-brooklyn"
    },
    {
      "cell_type": "code",
      "metadata": {
        "execution": {
          "iopub.execute_input": "2021-06-27T05:04:14.205214Z",
          "iopub.status.busy": "2021-06-27T05:04:14.204161Z",
          "iopub.status.idle": "2021-06-27T05:04:14.216773Z",
          "shell.execute_reply": "2021-06-27T05:04:14.217346Z",
          "shell.execute_reply.started": "2021-06-27T04:39:12.876504Z"
        },
        "papermill": {
          "duration": 0.039134,
          "end_time": "2021-06-27T05:04:14.217554",
          "exception": false,
          "start_time": "2021-06-27T05:04:14.178420",
          "status": "completed"
        },
        "tags": [],
        "id": "established-hughes",
        "outputId": "fd01656b-4a7e-4a0e-9c71-a9417d4f1c5b"
      },
      "source": [
        "dfNew['year'] = pd.to_datetime(dfNew['year'], format='%Y')\n"
      ],
      "id": "established-hughes",
      "execution_count": null,
      "outputs": [
        {
          "output_type": "stream",
          "text": [
            "/opt/conda/lib/python3.7/site-packages/ipykernel_launcher.py:1: SettingWithCopyWarning: \n",
            "A value is trying to be set on a copy of a slice from a DataFrame.\n",
            "Try using .loc[row_indexer,col_indexer] = value instead\n",
            "\n",
            "See the caveats in the documentation: https://pandas.pydata.org/pandas-docs/stable/user_guide/indexing.html#returning-a-view-versus-a-copy\n",
            "  \"\"\"Entry point for launching an IPython kernel.\n"
          ],
          "name": "stderr"
        }
      ]
    },
    {
      "cell_type": "markdown",
      "metadata": {
        "papermill": {
          "duration": 0.022448,
          "end_time": "2021-06-27T05:04:14.263059",
          "exception": false,
          "start_time": "2021-06-27T05:04:14.240611",
          "status": "completed"
        },
        "tags": [],
        "id": "present-program"
      },
      "source": [
        "**Next, I will change the Bechdel Scores to categorical variables.**\n"
      ],
      "id": "present-program"
    },
    {
      "cell_type": "code",
      "metadata": {
        "execution": {
          "iopub.execute_input": "2021-06-27T05:04:14.316168Z",
          "iopub.status.busy": "2021-06-27T05:04:14.314455Z",
          "iopub.status.idle": "2021-06-27T05:04:14.320499Z",
          "shell.execute_reply": "2021-06-27T05:04:14.319861Z",
          "shell.execute_reply.started": "2021-06-27T04:39:14.946992Z"
        },
        "papermill": {
          "duration": 0.034027,
          "end_time": "2021-06-27T05:04:14.320657",
          "exception": false,
          "start_time": "2021-06-27T05:04:14.286630",
          "status": "completed"
        },
        "tags": [],
        "id": "instant-tours",
        "outputId": "bbb361cd-e27e-49e2-f87e-b963ed88a805"
      },
      "source": [
        "dfNew['Bechdel Score'] = dfNew['Bechdel Score'].astype('category',copy=False)"
      ],
      "id": "instant-tours",
      "execution_count": null,
      "outputs": [
        {
          "output_type": "stream",
          "text": [
            "/opt/conda/lib/python3.7/site-packages/ipykernel_launcher.py:1: SettingWithCopyWarning: \n",
            "A value is trying to be set on a copy of a slice from a DataFrame.\n",
            "Try using .loc[row_indexer,col_indexer] = value instead\n",
            "\n",
            "See the caveats in the documentation: https://pandas.pydata.org/pandas-docs/stable/user_guide/indexing.html#returning-a-view-versus-a-copy\n",
            "  \"\"\"Entry point for launching an IPython kernel.\n"
          ],
          "name": "stderr"
        }
      ]
    },
    {
      "cell_type": "markdown",
      "metadata": {
        "papermill": {
          "duration": 0.02299,
          "end_time": "2021-06-27T05:04:14.366913",
          "exception": false,
          "start_time": "2021-06-27T05:04:14.343923",
          "status": "completed"
        },
        "tags": [],
        "id": "arranged-eating"
      },
      "source": [
        "Finally, the data is prepared and can be used to do some data visualization.\n",
        "\n",
        "\n",
        "I will first create a count plot using Seaborn, to visualize the Bechdel scores."
      ],
      "id": "arranged-eating"
    },
    {
      "cell_type": "code",
      "metadata": {
        "execution": {
          "iopub.execute_input": "2021-06-27T05:04:14.416747Z",
          "iopub.status.busy": "2021-06-27T05:04:14.416090Z",
          "iopub.status.idle": "2021-06-27T05:04:15.412810Z",
          "shell.execute_reply": "2021-06-27T05:04:15.412248Z",
          "shell.execute_reply.started": "2021-06-27T04:39:57.281274Z"
        },
        "papermill": {
          "duration": 1.022715,
          "end_time": "2021-06-27T05:04:15.412969",
          "exception": false,
          "start_time": "2021-06-27T05:04:14.390254",
          "status": "completed"
        },
        "tags": [],
        "id": "sweet-marketplace"
      },
      "source": [
        "import seaborn as sns"
      ],
      "id": "sweet-marketplace",
      "execution_count": null,
      "outputs": []
    },
    {
      "cell_type": "code",
      "metadata": {
        "execution": {
          "iopub.execute_input": "2021-06-27T05:04:15.465822Z",
          "iopub.status.busy": "2021-06-27T05:04:15.464777Z",
          "iopub.status.idle": "2021-06-27T05:04:15.630511Z",
          "shell.execute_reply": "2021-06-27T05:04:15.629927Z",
          "shell.execute_reply.started": "2021-06-27T04:40:03.130920Z"
        },
        "papermill": {
          "duration": 0.194244,
          "end_time": "2021-06-27T05:04:15.630665",
          "exception": false,
          "start_time": "2021-06-27T05:04:15.436421",
          "status": "completed"
        },
        "tags": [],
        "id": "narrow-genetics",
        "outputId": "7d2fff06-dbac-4d14-c9f9-af36f6d7f963"
      },
      "source": [
        "sns.countplot(x='Bechdel Score',data=dfNew)\n"
      ],
      "id": "narrow-genetics",
      "execution_count": null,
      "outputs": [
        {
          "output_type": "execute_result",
          "data": {
            "text/plain": [
              "<AxesSubplot:xlabel='Bechdel Score', ylabel='count'>"
            ]
          },
          "metadata": {
            "tags": []
          },
          "execution_count": 9
        },
        {
          "output_type": "display_data",
          "data": {
            "image/png": "[encoded data removed]",
            "text/plain": [
              "<Figure size 432x288 with 1 Axes>"
            ]
          },
          "metadata": {
            "tags": [],
            "needs_background": "light"
          }
        }
      ]
    },
    {
      "cell_type": "markdown",
      "metadata": {
        "papermill": {
          "duration": 0.024466,
          "end_time": "2021-06-27T05:04:15.679949",
          "exception": false,
          "start_time": "2021-06-27T05:04:15.655483",
          "status": "completed"
        },
        "tags": [],
        "id": "arctic-noise"
      },
      "source": [
        "**Most movies after the year 1967 seem to have higher Bechdel scores, but do they pass the Bechdel test?**\n"
      ],
      "id": "arctic-noise"
    },
    {
      "cell_type": "code",
      "metadata": {
        "execution": {
          "iopub.execute_input": "2021-06-27T05:04:15.753024Z",
          "iopub.status.busy": "2021-06-27T05:04:15.751850Z",
          "iopub.status.idle": "2021-06-27T05:04:15.767834Z",
          "shell.execute_reply": "2021-06-27T05:04:15.767306Z",
          "shell.execute_reply.started": "2021-06-27T04:40:38.825093Z"
        },
        "papermill": {
          "duration": 0.063141,
          "end_time": "2021-06-27T05:04:15.768009",
          "exception": false,
          "start_time": "2021-06-27T05:04:15.704868",
          "status": "completed"
        },
        "tags": [],
        "id": "simple-solution",
        "outputId": "081e5235-5110-4472-fe08-166a1d84a3b4"
      },
      "source": [
        "li = []\n",
        "for i in dfNew['Bechdel Score']:\n",
        "    if(i<3):\n",
        "        li.append(0)\n",
        "    else:\n",
        "        li.append(1)\n",
        "dfNew['pass_test'] = li\n",
        "dfNew"
      ],
      "id": "simple-solution",
      "execution_count": null,
      "outputs": [
        {
          "output_type": "stream",
          "text": [
            "/opt/conda/lib/python3.7/site-packages/ipykernel_launcher.py:7: SettingWithCopyWarning: \n",
            "A value is trying to be set on a copy of a slice from a DataFrame.\n",
            "Try using .loc[row_indexer,col_indexer] = value instead\n",
            "\n",
            "See the caveats in the documentation: https://pandas.pydata.org/pandas-docs/stable/user_guide/indexing.html#returning-a-view-versus-a-copy\n",
            "  import sys\n"
          ],
          "name": "stderr"
        },
        {
          "output_type": "execute_result",
          "data": {
            "text/html": [
              "<div>\n",
              "<style scoped>\n",
              "    .dataframe tbody tr th:only-of-type {\n",
              "        vertical-align: middle;\n",
              "    }\n",
              "\n",
              "    .dataframe tbody tr th {\n",
              "        vertical-align: top;\n",
              "    }\n",
              "\n",
              "    .dataframe thead th {\n",
              "        text-align: right;\n",
              "    }\n",
              "</style>\n",
              "<table border=\"1\" class=\"dataframe\">\n",
              "  <thead>\n",
              "    <tr style=\"text-align: right;\">\n",
              "      <th></th>\n",
              "      <th>id</th>\n",
              "      <th>imdbid</th>\n",
              "      <th>title</th>\n",
              "      <th>Bechdel Score</th>\n",
              "      <th>year</th>\n",
              "      <th>pass_test</th>\n",
              "    </tr>\n",
              "  </thead>\n",
              "  <tbody>\n",
              "    <tr>\n",
              "      <th>1203</th>\n",
              "      <td>4722</td>\n",
              "      <td>0062990</td>\n",
              "      <td>Fox, The</td>\n",
              "      <td>3</td>\n",
              "      <td>1967-01-01</td>\n",
              "      <td>1</td>\n",
              "    </tr>\n",
              "    <tr>\n",
              "      <th>1204</th>\n",
              "      <td>2054</td>\n",
              "      <td>0063278</td>\n",
              "      <td>Marketa Lazarova</td>\n",
              "      <td>1</td>\n",
              "      <td>1967-01-01</td>\n",
              "      <td>0</td>\n",
              "    </tr>\n",
              "    <tr>\n",
              "      <th>1205</th>\n",
              "      <td>6714</td>\n",
              "      <td>0062411</td>\n",
              "      <td>Uchu daikaiju Girara</td>\n",
              "      <td>3</td>\n",
              "      <td>1967-01-01</td>\n",
              "      <td>1</td>\n",
              "    </tr>\n",
              "    <tr>\n",
              "      <th>1206</th>\n",
              "      <td>301</td>\n",
              "      <td>0061512</td>\n",
              "      <td>Cool Hand Luke</td>\n",
              "      <td>1</td>\n",
              "      <td>1967-01-01</td>\n",
              "      <td>0</td>\n",
              "    </tr>\n",
              "    <tr>\n",
              "      <th>1207</th>\n",
              "      <td>2664</td>\n",
              "      <td>0061452</td>\n",
              "      <td>Casino Royale</td>\n",
              "      <td>2</td>\n",
              "      <td>1967-01-01</td>\n",
              "      <td>0</td>\n",
              "    </tr>\n",
              "    <tr>\n",
              "      <th>...</th>\n",
              "      <td>...</td>\n",
              "      <td>...</td>\n",
              "      <td>...</td>\n",
              "      <td>...</td>\n",
              "      <td>...</td>\n",
              "      <td>...</td>\n",
              "    </tr>\n",
              "    <tr>\n",
              "      <th>9164</th>\n",
              "      <td>9830</td>\n",
              "      <td>0499097</td>\n",
              "      <td>Without Remorse</td>\n",
              "      <td>1</td>\n",
              "      <td>2021-01-01</td>\n",
              "      <td>0</td>\n",
              "    </tr>\n",
              "    <tr>\n",
              "      <th>9165</th>\n",
              "      <td>9500</td>\n",
              "      <td>9286908</td>\n",
              "      <td>High Ground</td>\n",
              "      <td>2</td>\n",
              "      <td>2021-01-01</td>\n",
              "      <td>0</td>\n",
              "    </tr>\n",
              "    <tr>\n",
              "      <th>9166</th>\n",
              "      <td>9599</td>\n",
              "      <td>8521718</td>\n",
              "      <td>United States vs. Billie Holiday, The</td>\n",
              "      <td>3</td>\n",
              "      <td>2021-01-01</td>\n",
              "      <td>1</td>\n",
              "    </tr>\n",
              "    <tr>\n",
              "      <th>9167</th>\n",
              "      <td>9635</td>\n",
              "      <td>10121392</td>\n",
              "      <td>Thunder Force</td>\n",
              "      <td>3</td>\n",
              "      <td>2021-01-01</td>\n",
              "      <td>1</td>\n",
              "    </tr>\n",
              "    <tr>\n",
              "      <th>9168</th>\n",
              "      <td>9575</td>\n",
              "      <td>12361974</td>\n",
              "      <td>Zack Snyder&amp;#39;s Justice League</td>\n",
              "      <td>3</td>\n",
              "      <td>2021-01-01</td>\n",
              "      <td>1</td>\n",
              "    </tr>\n",
              "  </tbody>\n",
              "</table>\n",
              "<p>7966 rows × 6 columns</p>\n",
              "</div>"
            ],
            "text/plain": [
              "        id    imdbid                                  title Bechdel Score  \\\n",
              "1203  4722   0062990                               Fox, The             3   \n",
              "1204  2054   0063278                       Marketa Lazarova             1   \n",
              "1205  6714   0062411                   Uchu daikaiju Girara             3   \n",
              "1206   301   0061512                         Cool Hand Luke             1   \n",
              "1207  2664   0061452                          Casino Royale             2   \n",
              "...    ...       ...                                    ...           ...   \n",
              "9164  9830   0499097                        Without Remorse             1   \n",
              "9165  9500   9286908                            High Ground             2   \n",
              "9166  9599   8521718  United States vs. Billie Holiday, The             3   \n",
              "9167  9635  10121392                          Thunder Force             3   \n",
              "9168  9575  12361974       Zack Snyder&#39;s Justice League             3   \n",
              "\n",
              "           year  pass_test  \n",
              "1203 1967-01-01          1  \n",
              "1204 1967-01-01          0  \n",
              "1205 1967-01-01          1  \n",
              "1206 1967-01-01          0  \n",
              "1207 1967-01-01          0  \n",
              "...         ...        ...  \n",
              "9164 2021-01-01          0  \n",
              "9165 2021-01-01          0  \n",
              "9166 2021-01-01          1  \n",
              "9167 2021-01-01          1  \n",
              "9168 2021-01-01          1  \n",
              "\n",
              "[7966 rows x 6 columns]"
            ]
          },
          "metadata": {
            "tags": []
          },
          "execution_count": 10
        }
      ]
    },
    {
      "cell_type": "markdown",
      "metadata": {
        "papermill": {
          "duration": 0.025414,
          "end_time": "2021-06-27T05:04:15.818884",
          "exception": false,
          "start_time": "2021-06-27T05:04:15.793470",
          "status": "completed"
        },
        "tags": [],
        "id": "corrected-smooth"
      },
      "source": [
        "**Now, there is a dataframe called pass test, with a value of 1 for all the movies that pass the Bechdel test, and a value of 0 for the movies that don’t.**\n",
        "\n",
        "*I will visualize this using Seaborn.*\n"
      ],
      "id": "corrected-smooth"
    },
    {
      "cell_type": "code",
      "metadata": {
        "execution": {
          "iopub.execute_input": "2021-06-27T05:04:15.876409Z",
          "iopub.status.busy": "2021-06-27T05:04:15.875326Z",
          "iopub.status.idle": "2021-06-27T05:04:15.991423Z",
          "shell.execute_reply": "2021-06-27T05:04:15.990812Z",
          "shell.execute_reply.started": "2021-06-27T04:41:43.661231Z"
        },
        "papermill": {
          "duration": 0.14709,
          "end_time": "2021-06-27T05:04:15.991566",
          "exception": false,
          "start_time": "2021-06-27T05:04:15.844476",
          "status": "completed"
        },
        "tags": [],
        "id": "transparent-agency",
        "outputId": "d509da53-1857-4a64-f202-5387cbf12ba3"
      },
      "source": [
        "sns.countplot(x='pass_test',data=dfNew)\n"
      ],
      "id": "transparent-agency",
      "execution_count": null,
      "outputs": [
        {
          "output_type": "execute_result",
          "data": {
            "text/plain": [
              "<AxesSubplot:xlabel='pass_test', ylabel='count'>"
            ]
          },
          "metadata": {
            "tags": []
          },
          "execution_count": 11
        },
        {
          "output_type": "display_data",
          "data": {
            "image/png": "[encoded data removed]",
            "text/plain": [
              "<Figure size 432x288 with 1 Axes>"
            ]
          },
          "metadata": {
            "tags": [],
            "needs_background": "light"
          }
        }
      ]
    },
    {
      "cell_type": "markdown",
      "metadata": {
        "papermill": {
          "duration": 0.026123,
          "end_time": "2021-06-27T05:04:16.044043",
          "exception": false,
          "start_time": "2021-06-27T05:04:16.017920",
          "status": "completed"
        },
        "tags": [],
        "id": "exciting-panama"
      },
      "source": [
        "**There are more movies that have passed the Bechdel test as opposed to the ones that haven’t, since the year 1967.**\n",
        "\n",
        "**However, this difference is not as significant as I expected it to be. There still seems to be a very large number of movies that didn’t pass the test.**\n",
        "\n",
        "**Now, I will take a look at how the Bechdel scores changes with time.**\n",
        "\n",
        "**Has there been an improvement in the representation of women in the film industry? Are things still the same? Did they get worse?**\n",
        "\n",
        "**To do this, I will use the Plotnine library.**"
      ],
      "id": "exciting-panama"
    },
    {
      "cell_type": "code",
      "metadata": {
        "execution": {
          "iopub.execute_input": "2021-06-27T05:04:16.102957Z",
          "iopub.status.busy": "2021-06-27T05:04:16.102172Z",
          "iopub.status.idle": "2021-06-27T05:04:19.291519Z",
          "shell.execute_reply": "2021-06-27T05:04:19.290764Z",
          "shell.execute_reply.started": "2021-06-27T04:43:56.838772Z"
        },
        "papermill": {
          "duration": 3.221606,
          "end_time": "2021-06-27T05:04:19.291673",
          "exception": false,
          "start_time": "2021-06-27T05:04:16.070067",
          "status": "completed"
        },
        "tags": [],
        "id": "considerable-funds",
        "outputId": "a8620b66-4a79-409e-c601-0b36364176d7"
      },
      "source": [
        "from plotnine import *\n",
        "(ggplot(dfNew)+geom_point(aes('year',color=dfNew['Bechdel Score']),stat='count',show_legend=False)+geom_line(aes('year',color=dfNew['Bechdel Score']),stat='count',show_legend=False))"
      ],
      "id": "considerable-funds",
      "execution_count": null,
      "outputs": [
        {
          "output_type": "display_data",
          "data": {
            "image/png": "[encoded data removed]",
            "text/plain": [
              "<Figure size 640x480 with 1 Axes>"
            ]
          },
          "metadata": {
            "tags": []
          }
        },
        {
          "output_type": "execute_result",
          "data": {
            "text/plain": [
              "<ggplot: (8748768761577)>"
            ]
          },
          "metadata": {
            "tags": []
          },
          "execution_count": 12
        }
      ]
    },
    {
      "cell_type": "markdown",
      "metadata": {
        "papermill": {
          "duration": 0.029265,
          "end_time": "2021-06-27T05:04:19.351182",
          "exception": false,
          "start_time": "2021-06-27T05:04:19.321917",
          "status": "completed"
        },
        "tags": [],
        "id": "warming-rapid"
      },
      "source": [
        "**In the 1970s and 1980s, there were a few movies that passed the Bechdel test. During this time, there was no significant difference between movies that passed the test and movies that didn’t.**\n",
        "\n",
        "**The years following the 1980s and 1990s saw a spike in the number of movies that passed the Bechdel test, and there is massive improvement going into the 21st century.**\n",
        "\n",
        "**Now, I want to visualize the relationship between IMDB rating and the Bechdel scores. Are movies with higher Bechdel scores more likely to have higher IMDB ratings, or is it the other way round?**\n",
        "\n",
        "**To do so, I will use a different dataset called movies.csv, and merge it with my existing data frame.**"
      ],
      "id": "warming-rapid"
    },
    {
      "cell_type": "code",
      "metadata": {
        "execution": {
          "iopub.execute_input": "2021-06-27T05:04:19.414579Z",
          "iopub.status.busy": "2021-06-27T05:04:19.413860Z",
          "iopub.status.idle": "2021-06-27T05:04:19.764670Z",
          "shell.execute_reply": "2021-06-27T05:04:19.764014Z",
          "shell.execute_reply.started": "2021-06-27T04:51:00.767800Z"
        },
        "papermill": {
          "duration": 0.385263,
          "end_time": "2021-06-27T05:04:19.764817",
          "exception": false,
          "start_time": "2021-06-27T05:04:19.379554",
          "status": "completed"
        },
        "tags": [],
        "id": "frozen-convention",
        "outputId": "a7a0ecfa-a913-4fe4-b1f2-cad9480b0b59"
      },
      "source": [
        "imdb = pd.read_csv('../input/movies-fordatavisualization/movies.csv.txt')\n",
        "imdbNew = imdb[['title','rating']]\n",
        "dfNew = pd.merge(dfNew, imdbNew, how='left', left_on=['title'], right_on=['title'])\n",
        "dfNew.head()"
      ],
      "id": "frozen-convention",
      "execution_count": null,
      "outputs": [
        {
          "output_type": "execute_result",
          "data": {
            "text/html": [
              "<div>\n",
              "<style scoped>\n",
              "    .dataframe tbody tr th:only-of-type {\n",
              "        vertical-align: middle;\n",
              "    }\n",
              "\n",
              "    .dataframe tbody tr th {\n",
              "        vertical-align: top;\n",
              "    }\n",
              "\n",
              "    .dataframe thead th {\n",
              "        text-align: right;\n",
              "    }\n",
              "</style>\n",
              "<table border=\"1\" class=\"dataframe\">\n",
              "  <thead>\n",
              "    <tr style=\"text-align: right;\">\n",
              "      <th></th>\n",
              "      <th>id</th>\n",
              "      <th>imdbid</th>\n",
              "      <th>title</th>\n",
              "      <th>Bechdel Score</th>\n",
              "      <th>year</th>\n",
              "      <th>pass_test</th>\n",
              "      <th>rating</th>\n",
              "    </tr>\n",
              "  </thead>\n",
              "  <tbody>\n",
              "    <tr>\n",
              "      <th>0</th>\n",
              "      <td>4722</td>\n",
              "      <td>0062990</td>\n",
              "      <td>Fox, The</td>\n",
              "      <td>3</td>\n",
              "      <td>1967-01-01</td>\n",
              "      <td>1</td>\n",
              "      <td>6.4</td>\n",
              "    </tr>\n",
              "    <tr>\n",
              "      <th>1</th>\n",
              "      <td>2054</td>\n",
              "      <td>0063278</td>\n",
              "      <td>Marketa Lazarova</td>\n",
              "      <td>1</td>\n",
              "      <td>1967-01-01</td>\n",
              "      <td>0</td>\n",
              "      <td>NaN</td>\n",
              "    </tr>\n",
              "    <tr>\n",
              "      <th>2</th>\n",
              "      <td>6714</td>\n",
              "      <td>0062411</td>\n",
              "      <td>Uchu daikaiju Girara</td>\n",
              "      <td>3</td>\n",
              "      <td>1967-01-01</td>\n",
              "      <td>1</td>\n",
              "      <td>NaN</td>\n",
              "    </tr>\n",
              "    <tr>\n",
              "      <th>3</th>\n",
              "      <td>301</td>\n",
              "      <td>0061512</td>\n",
              "      <td>Cool Hand Luke</td>\n",
              "      <td>1</td>\n",
              "      <td>1967-01-01</td>\n",
              "      <td>0</td>\n",
              "      <td>8.2</td>\n",
              "    </tr>\n",
              "    <tr>\n",
              "      <th>4</th>\n",
              "      <td>2664</td>\n",
              "      <td>0061452</td>\n",
              "      <td>Casino Royale</td>\n",
              "      <td>2</td>\n",
              "      <td>1967-01-01</td>\n",
              "      <td>0</td>\n",
              "      <td>5.3</td>\n",
              "    </tr>\n",
              "  </tbody>\n",
              "</table>\n",
              "</div>"
            ],
            "text/plain": [
              "     id   imdbid                 title Bechdel Score       year  pass_test  \\\n",
              "0  4722  0062990              Fox, The             3 1967-01-01          1   \n",
              "1  2054  0063278      Marketa Lazarova             1 1967-01-01          0   \n",
              "2  6714  0062411  Uchu daikaiju Girara             3 1967-01-01          1   \n",
              "3   301  0061512        Cool Hand Luke             1 1967-01-01          0   \n",
              "4  2664  0061452         Casino Royale             2 1967-01-01          0   \n",
              "\n",
              "   rating  \n",
              "0     6.4  \n",
              "1     NaN  \n",
              "2     NaN  \n",
              "3     8.2  \n",
              "4     5.3  "
            ]
          },
          "metadata": {
            "tags": []
          },
          "execution_count": 13
        }
      ]
    },
    {
      "cell_type": "markdown",
      "metadata": {
        "papermill": {
          "duration": 0.028899,
          "end_time": "2021-06-27T05:04:19.822891",
          "exception": false,
          "start_time": "2021-06-27T05:04:19.793992",
          "status": "completed"
        },
        "tags": [],
        "id": "backed-essay"
      },
      "source": [
        "**The ‘rating’ column in the dataframe represents the IMBD movie ratings. This column has a few null values, and these rows will be dropped.**\n",
        "\n",
        "**I will then create a new data frame with only the year, Bechdel score, and IMDB rating, so I can visualize the relationship between the three.**"
      ],
      "id": "backed-essay"
    },
    {
      "cell_type": "code",
      "metadata": {
        "execution": {
          "iopub.execute_input": "2021-06-27T05:04:19.890934Z",
          "iopub.status.busy": "2021-06-27T05:04:19.890213Z",
          "iopub.status.idle": "2021-06-27T05:04:19.923113Z",
          "shell.execute_reply": "2021-06-27T05:04:19.922482Z",
          "shell.execute_reply.started": "2021-06-27T04:51:48.629856Z"
        },
        "papermill": {
          "duration": 0.070881,
          "end_time": "2021-06-27T05:04:19.923284",
          "exception": false,
          "start_time": "2021-06-27T05:04:19.852403",
          "status": "completed"
        },
        "tags": [],
        "id": "successful-hearing",
        "outputId": "9b45741a-a105-4c32-8f2a-f6692e0ed1dd"
      },
      "source": [
        "# Dropping rows with null values:\n",
        "dfNew = dfNew.dropna()\n",
        "dfNew = dfNew.drop('id',axis=1)\n",
        "# Creating a new dataframe with only year, Bechdel scores, and imdb rating:\n",
        "new = dfNew.groupby(['year','Bechdel Score']).agg({'rating':'mean'}).reset_index()\n",
        "new.head()"
      ],
      "id": "successful-hearing",
      "execution_count": null,
      "outputs": [
        {
          "output_type": "execute_result",
          "data": {
            "text/html": [
              "<div>\n",
              "<style scoped>\n",
              "    .dataframe tbody tr th:only-of-type {\n",
              "        vertical-align: middle;\n",
              "    }\n",
              "\n",
              "    .dataframe tbody tr th {\n",
              "        vertical-align: top;\n",
              "    }\n",
              "\n",
              "    .dataframe thead th {\n",
              "        text-align: right;\n",
              "    }\n",
              "</style>\n",
              "<table border=\"1\" class=\"dataframe\">\n",
              "  <thead>\n",
              "    <tr style=\"text-align: right;\">\n",
              "      <th></th>\n",
              "      <th>year</th>\n",
              "      <th>Bechdel Score</th>\n",
              "      <th>rating</th>\n",
              "    </tr>\n",
              "  </thead>\n",
              "  <tbody>\n",
              "    <tr>\n",
              "      <th>0</th>\n",
              "      <td>1967-01-01</td>\n",
              "      <td>0</td>\n",
              "      <td>7.700000</td>\n",
              "    </tr>\n",
              "    <tr>\n",
              "      <th>1</th>\n",
              "      <td>1967-01-01</td>\n",
              "      <td>1</td>\n",
              "      <td>7.125000</td>\n",
              "    </tr>\n",
              "    <tr>\n",
              "      <th>2</th>\n",
              "      <td>1967-01-01</td>\n",
              "      <td>2</td>\n",
              "      <td>6.750000</td>\n",
              "    </tr>\n",
              "    <tr>\n",
              "      <th>3</th>\n",
              "      <td>1967-01-01</td>\n",
              "      <td>3</td>\n",
              "      <td>6.658333</td>\n",
              "    </tr>\n",
              "    <tr>\n",
              "      <th>4</th>\n",
              "      <td>1968-01-01</td>\n",
              "      <td>0</td>\n",
              "      <td>7.262500</td>\n",
              "    </tr>\n",
              "  </tbody>\n",
              "</table>\n",
              "</div>"
            ],
            "text/plain": [
              "        year Bechdel Score    rating\n",
              "0 1967-01-01             0  7.700000\n",
              "1 1967-01-01             1  7.125000\n",
              "2 1967-01-01             2  6.750000\n",
              "3 1967-01-01             3  6.658333\n",
              "4 1968-01-01             0  7.262500"
            ]
          },
          "metadata": {
            "tags": []
          },
          "execution_count": 14
        }
      ]
    },
    {
      "cell_type": "markdown",
      "metadata": {
        "papermill": {
          "duration": 0.029273,
          "end_time": "2021-06-27T05:04:19.982070",
          "exception": false,
          "start_time": "2021-06-27T05:04:19.952797",
          "status": "completed"
        },
        "tags": [],
        "id": "bizarre-peoples"
      },
      "source": [
        "*I will visualize this relationship:*"
      ],
      "id": "bizarre-peoples"
    },
    {
      "cell_type": "code",
      "metadata": {
        "execution": {
          "iopub.execute_input": "2021-06-27T05:04:20.070258Z",
          "iopub.status.busy": "2021-06-27T05:04:20.069142Z",
          "iopub.status.idle": "2021-06-27T05:04:20.782107Z",
          "shell.execute_reply": "2021-06-27T05:04:20.782701Z",
          "shell.execute_reply.started": "2021-06-27T04:52:24.079754Z"
        },
        "papermill": {
          "duration": 0.769581,
          "end_time": "2021-06-27T05:04:20.782897",
          "exception": false,
          "start_time": "2021-06-27T05:04:20.013316",
          "status": "completed"
        },
        "tags": [],
        "id": "incoming-single",
        "outputId": "503bb930-7908-4c54-8074-58176a49333e"
      },
      "source": [
        "# Plot year against IMDB rating and Bechdel Score:\n",
        "ggplot(new,aes(x='year',y='rating',color='Bechdel Score'))+ geom_point()+geom_smooth()+scale_y_continuous(name=\"imdb rating\")+labs( colour='Bechdel Score' )"
      ],
      "id": "incoming-single",
      "execution_count": null,
      "outputs": [
        {
          "output_type": "stream",
          "text": [
            "/opt/conda/lib/python3.7/site-packages/plotnine/stats/smoothers.py:311: PlotnineWarning: Confidence intervals are not yet implementedfor lowess smoothings.\n",
            "/opt/conda/lib/python3.7/site-packages/plotnine/layer.py:401: PlotnineWarning: geom_point : Removed 2 rows containing missing values.\n"
          ],
          "name": "stderr"
        },
        {
          "output_type": "display_data",
          "data": {
            "image/png": "[encoded data removed]",
            "text/plain": [
              "<Figure size 640x480 with 1 Axes>"
            ]
          },
          "metadata": {
            "tags": []
          }
        },
        {
          "output_type": "execute_result",
          "data": {
            "text/plain": [
              "<ggplot: (8748719575389)>"
            ]
          },
          "metadata": {
            "tags": []
          },
          "execution_count": 15
        }
      ]
    },
    {
      "cell_type": "markdown",
      "metadata": {
        "papermill": {
          "duration": 0.032468,
          "end_time": "2021-06-27T05:04:20.847811",
          "exception": false,
          "start_time": "2021-06-27T05:04:20.815343",
          "status": "completed"
        },
        "tags": [],
        "id": "saving-monroe"
      },
      "source": [
        "# **It appears as though movies that pass the Bechdel test have significantly lower IMDB ratings compared to movies that don’t, which was pretty surprising to me.**\n"
      ],
      "id": "saving-monroe"
    },
    {
      "cell_type": "markdown",
      "metadata": {
        "papermill": {
          "duration": 0.031857,
          "end_time": "2021-06-27T05:04:20.911628",
          "exception": false,
          "start_time": "2021-06-27T05:04:20.879771",
          "status": "completed"
        },
        "tags": [],
        "id": "immune-petroleum"
      },
      "source": [
        "**And that’s it! I managed to visualize relationships and answer all the data questions I set out to find answers to.**\n",
        "\n",
        "\n",
        "Some interesting data findings include:\n",
        "* Movies that fail the Bechdel test tend to have higher IMDB ratings.\n",
        "* Over the years, there has been an increasing number of movies that pass the Bechdel test.\n"
      ],
      "id": "immune-petroleum"
    },
    {
      "cell_type": "markdown",
      "metadata": {
        "papermill": {
          "duration": 0.03183,
          "end_time": "2021-06-27T05:04:20.975539",
          "exception": false,
          "start_time": "2021-06-27T05:04:20.943709",
          "status": "completed"
        },
        "tags": [],
        "id": "prompt-pathology"
      },
      "source": [
        "**Of course, this analysis was only done with the data I gathered from three places, and might not represent the entire population of movies out there.**\n",
        "\n",
        "**Furthermore, there may have been other variables present that affected the outcome of this analysis, and it might be a good idea to experiment with data from a couple of other places before coming to a conclusion.**\n",
        "\n",
        "**Finally, I would like to mention that the Bechdel test is not necessarily the best benchmark to measure female representation in movies. It does not take into consideration how well written a female character is, neither does it measure meaningful depth of character.**\n",
        "\n",
        "**However, it is one of the most well-known metrics used to expose gender bias and is the only test we have this kind of data on.**"
      ],
      "id": "prompt-pathology"
    }
  ]
}